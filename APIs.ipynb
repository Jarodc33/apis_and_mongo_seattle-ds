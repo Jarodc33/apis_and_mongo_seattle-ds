{
 "cells": [
  {
   "cell_type": "markdown",
   "metadata": {},
   "source": [
    "# APIs\n",
    "\n",
    "The idea of an application programming interface is to enable (or make more efficient) communication among multiple devices.\n",
    "\n",
    "For DS purposes, you may find yourself on a website wondering how to access its data. Well, you may or may not be able to do this, but, if you can, you'll probably do it through an API."
   ]
  },
  {
   "cell_type": "markdown",
   "metadata": {},
   "source": [
    "Reddit's is pretty easy to use. Let's check it out!"
   ]
  },
  {
   "cell_type": "code",
   "execution_count": 1,
   "metadata": {},
   "outputs": [],
   "source": [
    "import requests\n",
    "import json\n",
    "import pandas as pd"
   ]
  },
  {
   "cell_type": "code",
   "execution_count": 2,
   "metadata": {},
   "outputs": [],
   "source": [
    "URL = 'http://www.reddit.com/hot.json'"
   ]
  },
  {
   "cell_type": "code",
   "execution_count": 3,
   "metadata": {},
   "outputs": [
    {
     "data": {
      "text/plain": [
       "429"
      ]
     },
     "execution_count": 3,
     "metadata": {},
     "output_type": "execute_result"
    }
   ],
   "source": [
    "requests.get(URL).status_code"
   ]
  },
  {
   "cell_type": "markdown",
   "metadata": {},
   "source": [
    "Well, not quite that easy. The .get() method calls a \"user-agent\" to access the data, and Reddit won't allow the Python default user-agent in. So we'll create a new user-agent."
   ]
  },
  {
   "cell_type": "code",
   "execution_count": 4,
   "metadata": {},
   "outputs": [
    {
     "data": {
      "text/plain": [
       "200"
      ]
     },
     "execution_count": 4,
     "metadata": {},
     "output_type": "execute_result"
    }
   ],
   "source": [
    "# Add in a parameter called 'headers' to the .get() call below and set it equal to\n",
    "# a dictionary with 'User-agent' as key and '<YOUR NAME> Bot 0.1' as value.\n",
    "\n",
    "res = requests.get(URL, headers={'User-agent': 'gadamico Bot 0.1'})\n",
    "\n",
    "res.status_code"
   ]
  },
  {
   "cell_type": "code",
   "execution_count": 5,
   "metadata": {},
   "outputs": [],
   "source": [
    "reddits = res.json()"
   ]
  },
  {
   "cell_type": "markdown",
   "metadata": {},
   "source": [
    "Let's explore the structure of the Reddit data:"
   ]
  },
  {
   "cell_type": "code",
   "execution_count": 6,
   "metadata": {},
   "outputs": [
    {
     "data": {
      "text/plain": [
       "dict"
      ]
     },
     "execution_count": 6,
     "metadata": {},
     "output_type": "execute_result"
    }
   ],
   "source": [
    "type(reddits)"
   ]
  },
  {
   "cell_type": "code",
   "execution_count": 7,
   "metadata": {},
   "outputs": [
    {
     "data": {
      "text/plain": [
       "dict_keys(['kind', 'data'])"
      ]
     },
     "execution_count": 7,
     "metadata": {},
     "output_type": "execute_result"
    }
   ],
   "source": [
    "reddits.keys()"
   ]
  },
  {
   "cell_type": "markdown",
   "metadata": {},
   "source": [
    "Let's try the 'data' key:"
   ]
  },
  {
   "cell_type": "code",
   "execution_count": 8,
   "metadata": {},
   "outputs": [
    {
     "data": {
      "text/plain": [
       "dict"
      ]
     },
     "execution_count": 8,
     "metadata": {},
     "output_type": "execute_result"
    }
   ],
   "source": [
    "type(reddits['data'])"
   ]
  },
  {
   "cell_type": "markdown",
   "metadata": {},
   "source": [
    "Another dictionary! Let's explore this further:"
   ]
  },
  {
   "cell_type": "code",
   "execution_count": 9,
   "metadata": {},
   "outputs": [
    {
     "data": {
      "text/plain": [
       "dict_keys(['modhash', 'dist', 'children', 'after', 'before'])"
      ]
     },
     "execution_count": 9,
     "metadata": {},
     "output_type": "execute_result"
    }
   ],
   "source": [
    "reddits['data'].keys()"
   ]
  },
  {
   "cell_type": "markdown",
   "metadata": {},
   "source": [
    "Probably 'before' and 'after' have to do with the ordering of Reddit posts. Let's look under 'children':"
   ]
  },
  {
   "cell_type": "code",
   "execution_count": 10,
   "metadata": {},
   "outputs": [
    {
     "data": {
      "text/plain": [
       "list"
      ]
     },
     "execution_count": 10,
     "metadata": {},
     "output_type": "execute_result"
    }
   ],
   "source": [
    "type(reddits['data']['children'])"
   ]
  },
  {
   "cell_type": "code",
   "execution_count": 11,
   "metadata": {},
   "outputs": [
    {
     "data": {
      "text/plain": [
       "{'kind': 't3',\n",
       " 'data': {'approved_at_utc': None,\n",
       "  'subreddit': 'worldnews',\n",
       "  'selftext': '',\n",
       "  'author_fullname': 't2_4mhxmloq',\n",
       "  'saved': False,\n",
       "  'mod_reason_title': None,\n",
       "  'gilded': 1,\n",
       "  'clicked': False,\n",
       "  'title': 'An anti-Putin blogger was murdered in a French hotel, and the killing has the hallmarks of the Russian hit squad causing chaos in Europe',\n",
       "  'link_flair_richtext': [],\n",
       "  'subreddit_name_prefixed': 'r/worldnews',\n",
       "  'hidden': False,\n",
       "  'pwls': 6,\n",
       "  'link_flair_css_class': 'russia',\n",
       "  'downs': 0,\n",
       "  'thumbnail_height': 70,\n",
       "  'hide_score': False,\n",
       "  'name': 't3_ezsdk5',\n",
       "  'quarantine': False,\n",
       "  'link_flair_text_color': 'dark',\n",
       "  'author_flair_background_color': None,\n",
       "  'subreddit_type': 'public',\n",
       "  'ups': 45302,\n",
       "  'total_awards_received': 1,\n",
       "  'media_embed': {},\n",
       "  'thumbnail_width': 140,\n",
       "  'author_flair_template_id': None,\n",
       "  'is_original_content': False,\n",
       "  'user_reports': [],\n",
       "  'secure_media': None,\n",
       "  'is_reddit_media_domain': False,\n",
       "  'is_meta': False,\n",
       "  'category': None,\n",
       "  'secure_media_embed': {},\n",
       "  'link_flair_text': 'Russia',\n",
       "  'can_mod_post': False,\n",
       "  'score': 45302,\n",
       "  'approved_by': None,\n",
       "  'author_premium': True,\n",
       "  'thumbnail': 'default',\n",
       "  'edited': False,\n",
       "  'author_flair_css_class': None,\n",
       "  'author_flair_richtext': [],\n",
       "  'gildings': {'gid_2': 1},\n",
       "  'post_hint': 'link',\n",
       "  'content_categories': None,\n",
       "  'is_self': False,\n",
       "  'mod_note': None,\n",
       "  'created': 1581024602.0,\n",
       "  'link_flair_type': 'text',\n",
       "  'wls': 6,\n",
       "  'removed_by_category': None,\n",
       "  'banned_by': None,\n",
       "  'author_flair_type': 'text',\n",
       "  'domain': 'businessinsider.com',\n",
       "  'allow_live_comments': True,\n",
       "  'selftext_html': None,\n",
       "  'likes': None,\n",
       "  'suggested_sort': None,\n",
       "  'banned_at_utc': None,\n",
       "  'view_count': None,\n",
       "  'archived': False,\n",
       "  'no_follow': False,\n",
       "  'is_crosspostable': False,\n",
       "  'pinned': False,\n",
       "  'over_18': False,\n",
       "  'preview': {'images': [{'source': {'url': 'https://external-preview.redd.it/Ba5XxXGsDhe_Wd4qiVdon92XtaHDxyJ6wEgMGvI_HjY.jpg?auto=webp&amp;s=79272403ad3bf6b001e458cce0f1a879e61db7e8',\n",
       "      'width': 1200,\n",
       "      'height': 600},\n",
       "     'resolutions': [{'url': 'https://external-preview.redd.it/Ba5XxXGsDhe_Wd4qiVdon92XtaHDxyJ6wEgMGvI_HjY.jpg?width=108&amp;crop=smart&amp;auto=webp&amp;s=1d679f160f643f8abc9ff3277f0aa6d3bd7235df',\n",
       "       'width': 108,\n",
       "       'height': 54},\n",
       "      {'url': 'https://external-preview.redd.it/Ba5XxXGsDhe_Wd4qiVdon92XtaHDxyJ6wEgMGvI_HjY.jpg?width=216&amp;crop=smart&amp;auto=webp&amp;s=2a8e231e7e63e138bc270e0c16e7497305f55f73',\n",
       "       'width': 216,\n",
       "       'height': 108},\n",
       "      {'url': 'https://external-preview.redd.it/Ba5XxXGsDhe_Wd4qiVdon92XtaHDxyJ6wEgMGvI_HjY.jpg?width=320&amp;crop=smart&amp;auto=webp&amp;s=769f2da1378ff1562116381cbe5f461d2d37e1dc',\n",
       "       'width': 320,\n",
       "       'height': 160},\n",
       "      {'url': 'https://external-preview.redd.it/Ba5XxXGsDhe_Wd4qiVdon92XtaHDxyJ6wEgMGvI_HjY.jpg?width=640&amp;crop=smart&amp;auto=webp&amp;s=9227e507720967559ae01f39f37e124d3aaf5eb4',\n",
       "       'width': 640,\n",
       "       'height': 320},\n",
       "      {'url': 'https://external-preview.redd.it/Ba5XxXGsDhe_Wd4qiVdon92XtaHDxyJ6wEgMGvI_HjY.jpg?width=960&amp;crop=smart&amp;auto=webp&amp;s=6cc4acb0e8381424f782302fb22438516aa44dfa',\n",
       "       'width': 960,\n",
       "       'height': 480},\n",
       "      {'url': 'https://external-preview.redd.it/Ba5XxXGsDhe_Wd4qiVdon92XtaHDxyJ6wEgMGvI_HjY.jpg?width=1080&amp;crop=smart&amp;auto=webp&amp;s=0a834151f2c6f82a3137b41e2318bb8679cd9721',\n",
       "       'width': 1080,\n",
       "       'height': 540}],\n",
       "     'variants': {},\n",
       "     'id': '81aLRHDe3yHCxKOljEY8Gb9VHupaVS7moPujnkiVry4'}],\n",
       "   'enabled': False},\n",
       "  'all_awardings': [{'count': 1,\n",
       "    'is_enabled': True,\n",
       "    'subreddit_id': None,\n",
       "    'description': 'Gives the author a week of Reddit Premium, %{coin_symbol}100 Coins to do with as they please, and shows a Gold Award.',\n",
       "    'end_date': None,\n",
       "    'award_sub_type': 'GLOBAL',\n",
       "    'coin_reward': 100,\n",
       "    'icon_url': 'https://www.redditstatic.com/gold/awards/icon/gold_512.png',\n",
       "    'days_of_premium': 7,\n",
       "    'is_new': False,\n",
       "    'id': 'gid_2',\n",
       "    'icon_height': 512,\n",
       "    'resized_icons': [{'url': 'https://www.redditstatic.com/gold/awards/icon/gold_16.png',\n",
       "      'width': 16,\n",
       "      'height': 16},\n",
       "     {'url': 'https://www.redditstatic.com/gold/awards/icon/gold_32.png',\n",
       "      'width': 32,\n",
       "      'height': 32},\n",
       "     {'url': 'https://www.redditstatic.com/gold/awards/icon/gold_48.png',\n",
       "      'width': 48,\n",
       "      'height': 48},\n",
       "     {'url': 'https://www.redditstatic.com/gold/awards/icon/gold_64.png',\n",
       "      'width': 64,\n",
       "      'height': 64},\n",
       "     {'url': 'https://www.redditstatic.com/gold/awards/icon/gold_128.png',\n",
       "      'width': 128,\n",
       "      'height': 128}],\n",
       "    'days_of_drip_extension': 0,\n",
       "    'award_type': 'global',\n",
       "    'start_date': None,\n",
       "    'coin_price': 500,\n",
       "    'icon_width': 512,\n",
       "    'subreddit_coin_reward': 0,\n",
       "    'name': 'Gold'}],\n",
       "  'awarders': [],\n",
       "  'media_only': False,\n",
       "  'can_gild': False,\n",
       "  'spoiler': False,\n",
       "  'locked': False,\n",
       "  'author_flair_text': None,\n",
       "  'visited': False,\n",
       "  'removed_by': None,\n",
       "  'num_reports': None,\n",
       "  'distinguished': None,\n",
       "  'subreddit_id': 't5_2qh13',\n",
       "  'mod_reason_by': None,\n",
       "  'removal_reason': None,\n",
       "  'link_flair_background_color': '',\n",
       "  'id': 'ezsdk5',\n",
       "  'is_robot_indexable': True,\n",
       "  'report_reasons': None,\n",
       "  'author': 'jigsawmap',\n",
       "  'discussion_type': None,\n",
       "  'num_comments': 2091,\n",
       "  'send_replies': False,\n",
       "  'whitelist_status': 'all_ads',\n",
       "  'contest_mode': False,\n",
       "  'mod_reports': [],\n",
       "  'author_patreon_flair': False,\n",
       "  'author_flair_text_color': None,\n",
       "  'permalink': '/r/worldnews/comments/ezsdk5/an_antiputin_blogger_was_murdered_in_a_french/',\n",
       "  'parent_whitelist_status': 'all_ads',\n",
       "  'stickied': False,\n",
       "  'url': 'https://www.businessinsider.com/anti-putin-blogger-imran-aliev-murdered-in-france-2020-2?amp',\n",
       "  'subreddit_subscribers': 23068763,\n",
       "  'created_utc': 1580995802.0,\n",
       "  'num_crossposts': 12,\n",
       "  'media': None,\n",
       "  'is_video': False}}"
      ]
     },
     "execution_count": 11,
     "metadata": {},
     "output_type": "execute_result"
    }
   ],
   "source": [
    "reddits['data']['children'][0]"
   ]
  },
  {
   "cell_type": "markdown",
   "metadata": {},
   "source": [
    "There's a dictionary in here (also, confusingly, called 'data') that looks important. Let's explore that. (Now we're really getting deep!)"
   ]
  },
  {
   "cell_type": "code",
   "execution_count": 12,
   "metadata": {},
   "outputs": [
    {
     "data": {
      "text/plain": [
       "{'approved_at_utc': None,\n",
       " 'subreddit': 'worldnews',\n",
       " 'selftext': '',\n",
       " 'author_fullname': 't2_4mhxmloq',\n",
       " 'saved': False,\n",
       " 'mod_reason_title': None,\n",
       " 'gilded': 1,\n",
       " 'clicked': False,\n",
       " 'title': 'An anti-Putin blogger was murdered in a French hotel, and the killing has the hallmarks of the Russian hit squad causing chaos in Europe',\n",
       " 'link_flair_richtext': [],\n",
       " 'subreddit_name_prefixed': 'r/worldnews',\n",
       " 'hidden': False,\n",
       " 'pwls': 6,\n",
       " 'link_flair_css_class': 'russia',\n",
       " 'downs': 0,\n",
       " 'thumbnail_height': 70,\n",
       " 'hide_score': False,\n",
       " 'name': 't3_ezsdk5',\n",
       " 'quarantine': False,\n",
       " 'link_flair_text_color': 'dark',\n",
       " 'author_flair_background_color': None,\n",
       " 'subreddit_type': 'public',\n",
       " 'ups': 45302,\n",
       " 'total_awards_received': 1,\n",
       " 'media_embed': {},\n",
       " 'thumbnail_width': 140,\n",
       " 'author_flair_template_id': None,\n",
       " 'is_original_content': False,\n",
       " 'user_reports': [],\n",
       " 'secure_media': None,\n",
       " 'is_reddit_media_domain': False,\n",
       " 'is_meta': False,\n",
       " 'category': None,\n",
       " 'secure_media_embed': {},\n",
       " 'link_flair_text': 'Russia',\n",
       " 'can_mod_post': False,\n",
       " 'score': 45302,\n",
       " 'approved_by': None,\n",
       " 'author_premium': True,\n",
       " 'thumbnail': 'default',\n",
       " 'edited': False,\n",
       " 'author_flair_css_class': None,\n",
       " 'author_flair_richtext': [],\n",
       " 'gildings': {'gid_2': 1},\n",
       " 'post_hint': 'link',\n",
       " 'content_categories': None,\n",
       " 'is_self': False,\n",
       " 'mod_note': None,\n",
       " 'created': 1581024602.0,\n",
       " 'link_flair_type': 'text',\n",
       " 'wls': 6,\n",
       " 'removed_by_category': None,\n",
       " 'banned_by': None,\n",
       " 'author_flair_type': 'text',\n",
       " 'domain': 'businessinsider.com',\n",
       " 'allow_live_comments': True,\n",
       " 'selftext_html': None,\n",
       " 'likes': None,\n",
       " 'suggested_sort': None,\n",
       " 'banned_at_utc': None,\n",
       " 'view_count': None,\n",
       " 'archived': False,\n",
       " 'no_follow': False,\n",
       " 'is_crosspostable': False,\n",
       " 'pinned': False,\n",
       " 'over_18': False,\n",
       " 'preview': {'images': [{'source': {'url': 'https://external-preview.redd.it/Ba5XxXGsDhe_Wd4qiVdon92XtaHDxyJ6wEgMGvI_HjY.jpg?auto=webp&amp;s=79272403ad3bf6b001e458cce0f1a879e61db7e8',\n",
       "     'width': 1200,\n",
       "     'height': 600},\n",
       "    'resolutions': [{'url': 'https://external-preview.redd.it/Ba5XxXGsDhe_Wd4qiVdon92XtaHDxyJ6wEgMGvI_HjY.jpg?width=108&amp;crop=smart&amp;auto=webp&amp;s=1d679f160f643f8abc9ff3277f0aa6d3bd7235df',\n",
       "      'width': 108,\n",
       "      'height': 54},\n",
       "     {'url': 'https://external-preview.redd.it/Ba5XxXGsDhe_Wd4qiVdon92XtaHDxyJ6wEgMGvI_HjY.jpg?width=216&amp;crop=smart&amp;auto=webp&amp;s=2a8e231e7e63e138bc270e0c16e7497305f55f73',\n",
       "      'width': 216,\n",
       "      'height': 108},\n",
       "     {'url': 'https://external-preview.redd.it/Ba5XxXGsDhe_Wd4qiVdon92XtaHDxyJ6wEgMGvI_HjY.jpg?width=320&amp;crop=smart&amp;auto=webp&amp;s=769f2da1378ff1562116381cbe5f461d2d37e1dc',\n",
       "      'width': 320,\n",
       "      'height': 160},\n",
       "     {'url': 'https://external-preview.redd.it/Ba5XxXGsDhe_Wd4qiVdon92XtaHDxyJ6wEgMGvI_HjY.jpg?width=640&amp;crop=smart&amp;auto=webp&amp;s=9227e507720967559ae01f39f37e124d3aaf5eb4',\n",
       "      'width': 640,\n",
       "      'height': 320},\n",
       "     {'url': 'https://external-preview.redd.it/Ba5XxXGsDhe_Wd4qiVdon92XtaHDxyJ6wEgMGvI_HjY.jpg?width=960&amp;crop=smart&amp;auto=webp&amp;s=6cc4acb0e8381424f782302fb22438516aa44dfa',\n",
       "      'width': 960,\n",
       "      'height': 480},\n",
       "     {'url': 'https://external-preview.redd.it/Ba5XxXGsDhe_Wd4qiVdon92XtaHDxyJ6wEgMGvI_HjY.jpg?width=1080&amp;crop=smart&amp;auto=webp&amp;s=0a834151f2c6f82a3137b41e2318bb8679cd9721',\n",
       "      'width': 1080,\n",
       "      'height': 540}],\n",
       "    'variants': {},\n",
       "    'id': '81aLRHDe3yHCxKOljEY8Gb9VHupaVS7moPujnkiVry4'}],\n",
       "  'enabled': False},\n",
       " 'all_awardings': [{'count': 1,\n",
       "   'is_enabled': True,\n",
       "   'subreddit_id': None,\n",
       "   'description': 'Gives the author a week of Reddit Premium, %{coin_symbol}100 Coins to do with as they please, and shows a Gold Award.',\n",
       "   'end_date': None,\n",
       "   'award_sub_type': 'GLOBAL',\n",
       "   'coin_reward': 100,\n",
       "   'icon_url': 'https://www.redditstatic.com/gold/awards/icon/gold_512.png',\n",
       "   'days_of_premium': 7,\n",
       "   'is_new': False,\n",
       "   'id': 'gid_2',\n",
       "   'icon_height': 512,\n",
       "   'resized_icons': [{'url': 'https://www.redditstatic.com/gold/awards/icon/gold_16.png',\n",
       "     'width': 16,\n",
       "     'height': 16},\n",
       "    {'url': 'https://www.redditstatic.com/gold/awards/icon/gold_32.png',\n",
       "     'width': 32,\n",
       "     'height': 32},\n",
       "    {'url': 'https://www.redditstatic.com/gold/awards/icon/gold_48.png',\n",
       "     'width': 48,\n",
       "     'height': 48},\n",
       "    {'url': 'https://www.redditstatic.com/gold/awards/icon/gold_64.png',\n",
       "     'width': 64,\n",
       "     'height': 64},\n",
       "    {'url': 'https://www.redditstatic.com/gold/awards/icon/gold_128.png',\n",
       "     'width': 128,\n",
       "     'height': 128}],\n",
       "   'days_of_drip_extension': 0,\n",
       "   'award_type': 'global',\n",
       "   'start_date': None,\n",
       "   'coin_price': 500,\n",
       "   'icon_width': 512,\n",
       "   'subreddit_coin_reward': 0,\n",
       "   'name': 'Gold'}],\n",
       " 'awarders': [],\n",
       " 'media_only': False,\n",
       " 'can_gild': False,\n",
       " 'spoiler': False,\n",
       " 'locked': False,\n",
       " 'author_flair_text': None,\n",
       " 'visited': False,\n",
       " 'removed_by': None,\n",
       " 'num_reports': None,\n",
       " 'distinguished': None,\n",
       " 'subreddit_id': 't5_2qh13',\n",
       " 'mod_reason_by': None,\n",
       " 'removal_reason': None,\n",
       " 'link_flair_background_color': '',\n",
       " 'id': 'ezsdk5',\n",
       " 'is_robot_indexable': True,\n",
       " 'report_reasons': None,\n",
       " 'author': 'jigsawmap',\n",
       " 'discussion_type': None,\n",
       " 'num_comments': 2091,\n",
       " 'send_replies': False,\n",
       " 'whitelist_status': 'all_ads',\n",
       " 'contest_mode': False,\n",
       " 'mod_reports': [],\n",
       " 'author_patreon_flair': False,\n",
       " 'author_flair_text_color': None,\n",
       " 'permalink': '/r/worldnews/comments/ezsdk5/an_antiputin_blogger_was_murdered_in_a_french/',\n",
       " 'parent_whitelist_status': 'all_ads',\n",
       " 'stickied': False,\n",
       " 'url': 'https://www.businessinsider.com/anti-putin-blogger-imran-aliev-murdered-in-france-2020-2?amp',\n",
       " 'subreddit_subscribers': 23068763,\n",
       " 'created_utc': 1580995802.0,\n",
       " 'num_crossposts': 12,\n",
       " 'media': None,\n",
       " 'is_video': False}"
      ]
     },
     "execution_count": 12,
     "metadata": {},
     "output_type": "execute_result"
    }
   ],
   "source": [
    "reddits['data']['children'][0]['data']"
   ]
  },
  {
   "cell_type": "markdown",
   "metadata": {},
   "source": [
    "Suppose we wanted to put all these reddits into a DataFrame ..."
   ]
  },
  {
   "cell_type": "code",
   "execution_count": 13,
   "metadata": {},
   "outputs": [
    {
     "data": {
      "text/html": [
       "<div>\n",
       "<style scoped>\n",
       "    .dataframe tbody tr th:only-of-type {\n",
       "        vertical-align: middle;\n",
       "    }\n",
       "\n",
       "    .dataframe tbody tr th {\n",
       "        vertical-align: top;\n",
       "    }\n",
       "\n",
       "    .dataframe thead th {\n",
       "        text-align: right;\n",
       "    }\n",
       "</style>\n",
       "<table border=\"1\" class=\"dataframe\">\n",
       "  <thead>\n",
       "    <tr style=\"text-align: right;\">\n",
       "      <th></th>\n",
       "      <th>approved_at_utc</th>\n",
       "      <th>subreddit</th>\n",
       "      <th>selftext</th>\n",
       "      <th>author_fullname</th>\n",
       "      <th>saved</th>\n",
       "      <th>mod_reason_title</th>\n",
       "      <th>gilded</th>\n",
       "      <th>clicked</th>\n",
       "      <th>title</th>\n",
       "      <th>link_flair_richtext</th>\n",
       "      <th>...</th>\n",
       "      <th>permalink</th>\n",
       "      <th>parent_whitelist_status</th>\n",
       "      <th>stickied</th>\n",
       "      <th>url</th>\n",
       "      <th>subreddit_subscribers</th>\n",
       "      <th>created_utc</th>\n",
       "      <th>num_crossposts</th>\n",
       "      <th>media</th>\n",
       "      <th>is_video</th>\n",
       "      <th>link_flair_template_id</th>\n",
       "    </tr>\n",
       "  </thead>\n",
       "  <tbody>\n",
       "    <tr>\n",
       "      <td>0</td>\n",
       "      <td>None</td>\n",
       "      <td>worldnews</td>\n",
       "      <td></td>\n",
       "      <td>t2_4mhxmloq</td>\n",
       "      <td>False</td>\n",
       "      <td>None</td>\n",
       "      <td>1</td>\n",
       "      <td>False</td>\n",
       "      <td>An anti-Putin blogger was murdered in a French...</td>\n",
       "      <td>[]</td>\n",
       "      <td>...</td>\n",
       "      <td>/r/worldnews/comments/ezsdk5/an_antiputin_blog...</td>\n",
       "      <td>all_ads</td>\n",
       "      <td>False</td>\n",
       "      <td>https://www.businessinsider.com/anti-putin-blo...</td>\n",
       "      <td>23068763</td>\n",
       "      <td>1.580996e+09</td>\n",
       "      <td>12</td>\n",
       "      <td>None</td>\n",
       "      <td>False</td>\n",
       "      <td>NaN</td>\n",
       "    </tr>\n",
       "    <tr>\n",
       "      <td>1</td>\n",
       "      <td>None</td>\n",
       "      <td>movies</td>\n",
       "      <td>I watched that scene, I Need a Hero recently. ...</td>\n",
       "      <td>t2_46uhanzr</td>\n",
       "      <td>False</td>\n",
       "      <td>None</td>\n",
       "      <td>2</td>\n",
       "      <td>False</td>\n",
       "      <td>Shrek 2 has the best climax ever.</td>\n",
       "      <td>[]</td>\n",
       "      <td>...</td>\n",
       "      <td>/r/movies/comments/eztqbm/shrek_2_has_the_best...</td>\n",
       "      <td>all_ads</td>\n",
       "      <td>False</td>\n",
       "      <td>https://www.reddit.com/r/movies/comments/eztqb...</td>\n",
       "      <td>22240311</td>\n",
       "      <td>1.581002e+09</td>\n",
       "      <td>4</td>\n",
       "      <td>None</td>\n",
       "      <td>False</td>\n",
       "      <td>NaN</td>\n",
       "    </tr>\n",
       "  </tbody>\n",
       "</table>\n",
       "<p>2 rows × 104 columns</p>\n",
       "</div>"
      ],
      "text/plain": [
       "  approved_at_utc  subreddit  \\\n",
       "0            None  worldnews   \n",
       "1            None     movies   \n",
       "\n",
       "                                            selftext author_fullname  saved  \\\n",
       "0                                                        t2_4mhxmloq  False   \n",
       "1  I watched that scene, I Need a Hero recently. ...     t2_46uhanzr  False   \n",
       "\n",
       "  mod_reason_title  gilded  clicked  \\\n",
       "0             None       1    False   \n",
       "1             None       2    False   \n",
       "\n",
       "                                               title link_flair_richtext  ...  \\\n",
       "0  An anti-Putin blogger was murdered in a French...                  []  ...   \n",
       "1                  Shrek 2 has the best climax ever.                  []  ...   \n",
       "\n",
       "                                           permalink  parent_whitelist_status  \\\n",
       "0  /r/worldnews/comments/ezsdk5/an_antiputin_blog...                  all_ads   \n",
       "1  /r/movies/comments/eztqbm/shrek_2_has_the_best...                  all_ads   \n",
       "\n",
       "   stickied                                                url  \\\n",
       "0     False  https://www.businessinsider.com/anti-putin-blo...   \n",
       "1     False  https://www.reddit.com/r/movies/comments/eztqb...   \n",
       "\n",
       "   subreddit_subscribers   created_utc  num_crossposts media  is_video  \\\n",
       "0               23068763  1.580996e+09              12  None     False   \n",
       "1               22240311  1.581002e+09               4  None     False   \n",
       "\n",
       "  link_flair_template_id  \n",
       "0                    NaN  \n",
       "1                    NaN  \n",
       "\n",
       "[2 rows x 104 columns]"
      ]
     },
     "execution_count": 13,
     "metadata": {},
     "output_type": "execute_result"
    }
   ],
   "source": [
    "# Your code below!\n",
    "\n",
    "posts = []\n",
    "\n",
    "for post in reddits['data']['children']:\n",
    "    posts.append(post['data'])\n",
    "\n",
    "reddits_df = pd.DataFrame(posts)\n",
    "\n",
    "reddits_df.head(2)"
   ]
  },
  {
   "cell_type": "code",
   "execution_count": 14,
   "metadata": {},
   "outputs": [
    {
     "data": {
      "text/html": [
       "<div>\n",
       "<style scoped>\n",
       "    .dataframe tbody tr th:only-of-type {\n",
       "        vertical-align: middle;\n",
       "    }\n",
       "\n",
       "    .dataframe tbody tr th {\n",
       "        vertical-align: top;\n",
       "    }\n",
       "\n",
       "    .dataframe thead th {\n",
       "        text-align: right;\n",
       "    }\n",
       "</style>\n",
       "<table border=\"1\" class=\"dataframe\">\n",
       "  <thead>\n",
       "    <tr style=\"text-align: right;\">\n",
       "      <th></th>\n",
       "      <th>0</th>\n",
       "      <th>1</th>\n",
       "    </tr>\n",
       "  </thead>\n",
       "  <tbody>\n",
       "    <tr>\n",
       "      <td>approved_at_utc</td>\n",
       "      <td>None</td>\n",
       "      <td>None</td>\n",
       "    </tr>\n",
       "    <tr>\n",
       "      <td>subreddit</td>\n",
       "      <td>worldnews</td>\n",
       "      <td>movies</td>\n",
       "    </tr>\n",
       "    <tr>\n",
       "      <td>selftext</td>\n",
       "      <td></td>\n",
       "      <td>I watched that scene, I Need a Hero recently. ...</td>\n",
       "    </tr>\n",
       "    <tr>\n",
       "      <td>author_fullname</td>\n",
       "      <td>t2_4mhxmloq</td>\n",
       "      <td>t2_46uhanzr</td>\n",
       "    </tr>\n",
       "    <tr>\n",
       "      <td>saved</td>\n",
       "      <td>False</td>\n",
       "      <td>False</td>\n",
       "    </tr>\n",
       "    <tr>\n",
       "      <td>...</td>\n",
       "      <td>...</td>\n",
       "      <td>...</td>\n",
       "    </tr>\n",
       "    <tr>\n",
       "      <td>created_utc</td>\n",
       "      <td>1.581e+09</td>\n",
       "      <td>1.581e+09</td>\n",
       "    </tr>\n",
       "    <tr>\n",
       "      <td>num_crossposts</td>\n",
       "      <td>12</td>\n",
       "      <td>4</td>\n",
       "    </tr>\n",
       "    <tr>\n",
       "      <td>media</td>\n",
       "      <td>None</td>\n",
       "      <td>None</td>\n",
       "    </tr>\n",
       "    <tr>\n",
       "      <td>is_video</td>\n",
       "      <td>False</td>\n",
       "      <td>False</td>\n",
       "    </tr>\n",
       "    <tr>\n",
       "      <td>link_flair_template_id</td>\n",
       "      <td>NaN</td>\n",
       "      <td>NaN</td>\n",
       "    </tr>\n",
       "  </tbody>\n",
       "</table>\n",
       "<p>104 rows × 2 columns</p>\n",
       "</div>"
      ],
      "text/plain": [
       "                                  0  \\\n",
       "approved_at_utc                None   \n",
       "subreddit                 worldnews   \n",
       "selftext                              \n",
       "author_fullname         t2_4mhxmloq   \n",
       "saved                         False   \n",
       "...                             ...   \n",
       "created_utc               1.581e+09   \n",
       "num_crossposts                   12   \n",
       "media                          None   \n",
       "is_video                      False   \n",
       "link_flair_template_id          NaN   \n",
       "\n",
       "                                                                        1  \n",
       "approved_at_utc                                                      None  \n",
       "subreddit                                                          movies  \n",
       "selftext                I watched that scene, I Need a Hero recently. ...  \n",
       "author_fullname                                               t2_46uhanzr  \n",
       "saved                                                               False  \n",
       "...                                                                   ...  \n",
       "created_utc                                                     1.581e+09  \n",
       "num_crossposts                                                          4  \n",
       "media                                                                None  \n",
       "is_video                                                            False  \n",
       "link_flair_template_id                                                NaN  \n",
       "\n",
       "[104 rows x 2 columns]"
      ]
     },
     "execution_count": 14,
     "metadata": {},
     "output_type": "execute_result"
    }
   ],
   "source": [
    "# How many different columns do we have?\n",
    "\n",
    "reddits_df.head(2).T"
   ]
  },
  {
   "cell_type": "markdown",
   "metadata": {},
   "source": [
    "Let's check out [this](https://www.pythonforbeginners.com/api/) site about APIs in Python!"
   ]
  },
  {
   "cell_type": "markdown",
   "metadata": {},
   "source": [
    "Often when you interact with a bit of software using an API, you'll need an API key. Foursquare's API is a case in point. Let's turn to that now."
   ]
  },
  {
   "cell_type": "code",
   "execution_count": null,
   "metadata": {},
   "outputs": [],
   "source": []
  }
 ],
 "metadata": {
  "kernelspec": {
   "display_name": "Python 3",
   "language": "python",
   "name": "python3"
  },
  "language_info": {
   "codemirror_mode": {
    "name": "ipython",
    "version": 3
   },
   "file_extension": ".py",
   "mimetype": "text/x-python",
   "name": "python",
   "nbconvert_exporter": "python",
   "pygments_lexer": "ipython3",
   "version": "3.6.9"
  }
 },
 "nbformat": 4,
 "nbformat_minor": 2
}
